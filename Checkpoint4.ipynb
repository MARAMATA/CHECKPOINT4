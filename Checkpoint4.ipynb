{
 "cells": [
  {
   "cell_type": "markdown",
   "id": "9d9fbdde",
   "metadata": {},
   "source": [
    "# Q1"
   ]
  },
  {
   "cell_type": "code",
   "execution_count": null,
   "id": "fbc3de2c",
   "metadata": {},
   "outputs": [],
   "source": [
    "class Point3D:\n",
    "    def __init__(self, x, y, z):\n",
    "        self.x = x\n",
    "        self.y = y\n",
    "        self.z = z\n",
    "        \n",
    "    def coordonnees(self):\n",
    "        return (self.x, self.y, self.z)"
   ]
  },
  {
   "cell_type": "code",
   "execution_count": 2,
   "id": "6b3c2061",
   "metadata": {},
   "outputs": [
    {
     "name": "stdout",
     "output_type": "stream",
     "text": [
      "(1, 2, 3)\n"
     ]
    }
   ],
   "source": [
    "my_point = Point3D(1, 2, 3)\n",
    "print(my_point.coordonnees())"
   ]
  },
  {
   "cell_type": "markdown",
   "id": "10ae90a0",
   "metadata": {},
   "source": [
    "# Q2"
   ]
  },
  {
   "cell_type": "code",
   "execution_count": 3,
   "id": "de1bbe9e",
   "metadata": {},
   "outputs": [],
   "source": [
    "class Rectangle:\n",
    "    def __init__(self, longueur, largeur):\n",
    "        self.longueur = longueur\n",
    "        self.largeur = largeur\n",
    "    \n",
    "    def aire(self):\n",
    "        return self.longueur * self.largeur\n",
    "    \n",
    "    def perimetre(self):\n",
    "        return (self.longueur + self.largeur)*2"
   ]
  },
  {
   "cell_type": "code",
   "execution_count": 4,
   "id": "06749a46",
   "metadata": {},
   "outputs": [],
   "source": [
    "my_rectangle = Rectangle(4, 3)"
   ]
  },
  {
   "cell_type": "code",
   "execution_count": 5,
   "id": "b9242626",
   "metadata": {},
   "outputs": [
    {
     "name": "stdout",
     "output_type": "stream",
     "text": [
      "Aire:  12\n",
      "Périmètre:  14\n"
     ]
    }
   ],
   "source": [
    "print(\"Aire: \", my_rectangle.aire())\n",
    "print(\"Périmètre: \", my_rectangle.perimetre())"
   ]
  },
  {
   "cell_type": "markdown",
   "id": "d4d8f038",
   "metadata": {},
   "source": [
    "# Q3"
   ]
  },
  {
   "cell_type": "code",
   "execution_count": 6,
   "id": "0e433fc6",
   "metadata": {},
   "outputs": [],
   "source": [
    "class Circle:\n",
    "    def __init__(self, x, y, r):\n",
    "        self.x = x\n",
    "        self.y = y\n",
    "        self.r = r\n",
    "        \n",
    "    def aire(self):\n",
    "        return 3.14 * self.r ** 2\n",
    "    \n",
    "    def perimetre(self):\n",
    "        return 2 * 3.14 * self.r\n",
    "    \n",
    "    def inside(self, x_a, y_a):\n",
    "        distance = ((x_a - self.x) ** 2 + (y_a - self.y) ** 2) ** 0.5\n",
    "        if distance <= self.r:\n",
    "            return True\n",
    "        else:\n",
    "            return False"
   ]
  },
  {
   "cell_type": "code",
   "execution_count": 7,
   "id": "85c7cb38",
   "metadata": {},
   "outputs": [
    {
     "name": "stdout",
     "output_type": "stream",
     "text": [
      "Aire:  78.5\n",
      "Périmètre:  31.400000000000002\n",
      "(2, 2) est à l'intérieur du cercle:  True\n",
      "(6, 6) est à l'intérieur du cercle:  False\n"
     ]
    }
   ],
   "source": [
    "my_circle = Circle(0, 0, 5)\n",
    "print(\"Aire: \", my_circle.aire())\n",
    "print(\"Périmètre: \", my_circle.perimetre())\n",
    "print(\"(2, 2) est à l'intérieur du cercle: \", my_circle.inside(2, 2))\n",
    "print(\"(6, 6) est à l'intérieur du cercle: \", my_circle.inside(6, 6))"
   ]
  },
  {
   "cell_type": "markdown",
   "id": "8cb30286",
   "metadata": {},
   "source": [
    "# Q4"
   ]
  },
  {
   "cell_type": "code",
   "execution_count": 8,
   "id": "5af78560",
   "metadata": {},
   "outputs": [],
   "source": [
    "class Bank:\n",
    "    def __init__(self, solde):\n",
    "        self.solde = solde\n",
    "\n",
    "    def depot(self, montant):\n",
    "        self.solde += montant\n",
    "\n",
    "    def retrait(self, montant):\n",
    "        if self.solde >= montant:\n",
    "            self.solde -= montant\n",
    "        else:\n",
    "            print(\"Solde insuffisant pour effectuer le retrait.\")"
   ]
  },
  {
   "cell_type": "code",
   "execution_count": 9,
   "id": "183feff1",
   "metadata": {},
   "outputs": [
    {
     "name": "stdout",
     "output_type": "stream",
     "text": [
      "1000\n",
      "1500\n",
      "1300\n",
      "Solde insuffisant pour effectuer le retrait.\n",
      "1300\n"
     ]
    }
   ],
   "source": [
    "compte = Bank(1000)\n",
    "print(compte.solde)  \n",
    "\n",
    "compte.depot(500)\n",
    "print(compte.solde) \n",
    "\n",
    "compte.retrait(200)\n",
    "print(compte.solde)  \n",
    "\n",
    "compte.retrait(1500) \n",
    "print(compte.solde)"
   ]
  },
  {
   "cell_type": "code",
   "execution_count": null,
   "id": "32586007",
   "metadata": {},
   "outputs": [],
   "source": []
  }
 ],
 "metadata": {
  "kernelspec": {
   "display_name": "Python 3 (ipykernel)",
   "language": "python",
   "name": "python3"
  },
  "language_info": {
   "codemirror_mode": {
    "name": "ipython",
    "version": 3
   },
   "file_extension": ".py",
   "mimetype": "text/x-python",
   "name": "python",
   "nbconvert_exporter": "python",
   "pygments_lexer": "ipython3",
   "version": "3.9.13"
  }
 },
 "nbformat": 4,
 "nbformat_minor": 5
}
